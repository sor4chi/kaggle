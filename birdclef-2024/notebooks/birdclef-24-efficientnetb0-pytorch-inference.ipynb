{
 "cells": [
  {
   "cell_type": "markdown",
   "id": "bfb18b93",
   "metadata": {
    "_cell_guid": "b1076dfc-b9ad-4769-8c92-a6c4dae69d19",
    "_uuid": "8f2839f25d086af736a60e9eeb907d3b93b6e0e5",
    "papermill": {
     "duration": 0.01094,
     "end_time": "2024-04-15T02:47:28.822603",
     "exception": false,
     "start_time": "2024-04-15T02:47:28.811663",
     "status": "completed"
    },
    "tags": []
   },
   "source": [
    "# BirdCLEF 2024 [Inference]\n",
    "\n",
    "This notebook implements the inference and submission. You can find the pre-processing and training in the following notebooks:\n",
    "\n",
    "* [Pre-Processing](https://www.kaggle.com/code/zijiangyang1116/birdclef-24-speed-up-audio-to-spec-via-cupy)\n",
    "* [The Training Notebook](https://www.kaggle.com/code/zijiangyang1116/birdclef-24-efficientnetb0-pytorch-train)\n",
    "\n",
    "## Features\n",
    "- PyTorch's Dataset & Dataloader\n",
    "- Use PyTorch-Lightning for building model\n",
    "- Data slice is based on @MARK WIJKHUIZEN's [notebook](https://www.kaggle.com/code/markwijkhuizen/birdclef-2024-efficientvit-inference).\n",
    "\n",
    "\n",
    "## Table of Contents\n",
    "\n",
    "- [Import Packages](#Import-Packages)\n",
    "- [Configuration](#Configuration)\n",
    "- [Dataset & Dataloader](#Dataset-&-Dataloader)\n",
    "- [Model](#Model)\n",
    "- [Functions of Inference Loop](#Functions-of-Inference-Loop)\n",
    "- [Inference & Submision](#Inference-&-Submision)\n",
    "\n",
    "## Update\n",
    "\n",
    "- V4: Inference of New Version (Train V3)"
   ]
  },
  {
   "cell_type": "markdown",
   "id": "3c2958bb",
   "metadata": {
    "papermill": {
     "duration": 0.008598,
     "end_time": "2024-04-15T02:47:28.840824",
     "exception": false,
     "start_time": "2024-04-15T02:47:28.832226",
     "status": "completed"
    },
    "tags": []
   },
   "source": [
    "# Import Packages"
   ]
  },
  {
   "cell_type": "code",
   "execution_count": 10,
   "id": "be3add81",
   "metadata": {
    "execution": {
     "iopub.execute_input": "2024-04-15T02:47:28.861007Z",
     "iopub.status.busy": "2024-04-15T02:47:28.860205Z",
     "iopub.status.idle": "2024-04-15T02:47:42.645575Z",
     "shell.execute_reply": "2024-04-15T02:47:42.644265Z"
    },
    "papermill": {
     "duration": 13.798942,
     "end_time": "2024-04-15T02:47:42.648606",
     "exception": false,
     "start_time": "2024-04-15T02:47:28.849664",
     "status": "completed"
    },
    "tags": []
   },
   "outputs": [],
   "source": [
    "import re\n",
    "import os\n",
    "import gc\n",
    "import sys\n",
    "import cv2\n",
    "import math\n",
    "import numpy as np\n",
    "import pandas as pd\n",
    "from glob import glob\n",
    "from tqdm.notebook import tqdm\n",
    "import matplotlib.pyplot as plt\n",
    "import librosa\n",
    "from scipy import signal as sci_signal\n",
    "\n",
    "import torch\n",
    "from torch import nn\n",
    "from torchvision.models import efficientnet\n",
    "\n",
    "import albumentations as albu\n",
    "\n",
    "import pytorch_lightning as pl\n",
    "from torch.optim.lr_scheduler import CosineAnnealingWarmRestarts"
   ]
  },
  {
   "cell_type": "markdown",
   "id": "08e81dd3",
   "metadata": {
    "papermill": {
     "duration": 0.008812,
     "end_time": "2024-04-15T02:47:42.666681",
     "exception": false,
     "start_time": "2024-04-15T02:47:42.657869",
     "status": "completed"
    },
    "tags": []
   },
   "source": [
    "# Configuration"
   ]
  },
  {
   "cell_type": "code",
   "execution_count": 11,
   "id": "2edb18db",
   "metadata": {
    "execution": {
     "iopub.execute_input": "2024-04-15T02:47:42.686730Z",
     "iopub.status.busy": "2024-04-15T02:47:42.686165Z",
     "iopub.status.idle": "2024-04-15T02:47:42.703789Z",
     "shell.execute_reply": "2024-04-15T02:47:42.702295Z"
    },
    "papermill": {
     "duration": 0.030915,
     "end_time": "2024-04-15T02:47:42.706607",
     "exception": false,
     "start_time": "2024-04-15T02:47:42.675692",
     "status": "completed"
    },
    "tags": []
   },
   "outputs": [
    {
     "name": "stderr",
     "output_type": "stream",
     "text": [
      "Seed set to 2024\n"
     ]
    },
    {
     "name": "stdout",
     "output_type": "stream",
     "text": [
      "fix seed\n"
     ]
    },
    {
     "data": {
      "text/plain": [
       "2024"
      ]
     },
     "execution_count": 11,
     "metadata": {},
     "output_type": "execute_result"
    }
   ],
   "source": [
    "class config:\n",
    "    # == global config ==\n",
    "    SEED = 2024  # random seed\n",
    "    DEVICE = \"cpu\"  # device to be used\n",
    "    MIXED_PRECISION = False  # whether to use mixed-16 precision\n",
    "    OUTPUT_DIR = \"../out\"  # output folder\n",
    "\n",
    "    # == data config ==\n",
    "    DATA_ROOT = \"../data\"  # root folder\n",
    "    Load_DATA = False  # whether to load data from pre-processed dataset\n",
    "    FS = 32000  # sample rate\n",
    "    N_FFT = 1095  # n FFT of Spec.\n",
    "    WIN_SIZE = 412  # WIN_SIZE of Spec.\n",
    "    WIN_LAP = 100  # overlap of Spec.\n",
    "    MIN_FREQ = 40  # min frequency\n",
    "    MAX_FREQ = 15000  # max frequency\n",
    "\n",
    "    # == model config ==\n",
    "    MODEL_TYPE = \"efficientnet_b0\"  # model type\n",
    "\n",
    "    # == dataset config ==\n",
    "    BATCH_SIZE = 64  # batch size of each step\n",
    "    N_WORKERS = 4  # number of workers\n",
    "\n",
    "    # == inference config ==\n",
    "    CKPT_ROOT = \"/kaggle/input/birdclef24-baseline-checkpoints\"\n",
    "\n",
    "    # == other config ==\n",
    "    VISUALIZE = True  # whether to visualize data and batch\n",
    "\n",
    "\n",
    "print(\"fix seed\")\n",
    "pl.seed_everything(config.SEED, workers=True)"
   ]
  },
  {
   "cell_type": "code",
   "execution_count": 12,
   "id": "c9adcdb3",
   "metadata": {
    "execution": {
     "iopub.execute_input": "2024-04-15T02:47:42.727959Z",
     "iopub.status.busy": "2024-04-15T02:47:42.726741Z",
     "iopub.status.idle": "2024-04-15T02:47:42.763635Z",
     "shell.execute_reply": "2024-04-15T02:47:42.762428Z"
    },
    "papermill": {
     "duration": 0.050397,
     "end_time": "2024-04-15T02:47:42.766514",
     "exception": false,
     "start_time": "2024-04-15T02:47:42.716117",
     "status": "completed"
    },
    "tags": []
   },
   "outputs": [
    {
     "ename": "FileNotFoundError",
     "evalue": "[Errno 2] No such file or directory: '/kaggle/input/birdclef-2024/train_audio'",
     "output_type": "error",
     "traceback": [
      "\u001b[0;31m---------------------------------------------------------------------------\u001b[0m",
      "\u001b[0;31mFileNotFoundError\u001b[0m                         Traceback (most recent call last)",
      "Cell \u001b[0;32mIn[12], line 2\u001b[0m\n\u001b[1;32m      1\u001b[0m \u001b[38;5;66;03m# labels\u001b[39;00m\n\u001b[0;32m----> 2\u001b[0m label_list \u001b[38;5;241m=\u001b[39m \u001b[38;5;28msorted\u001b[39m(\u001b[43mos\u001b[49m\u001b[38;5;241;43m.\u001b[39;49m\u001b[43mlistdir\u001b[49m\u001b[43m(\u001b[49m\u001b[43mos\u001b[49m\u001b[38;5;241;43m.\u001b[39;49m\u001b[43mpath\u001b[49m\u001b[38;5;241;43m.\u001b[39;49m\u001b[43mjoin\u001b[49m\u001b[43m(\u001b[49m\u001b[43mconfig\u001b[49m\u001b[38;5;241;43m.\u001b[39;49m\u001b[43mDATA_ROOT\u001b[49m\u001b[43m,\u001b[49m\u001b[43m \u001b[49m\u001b[38;5;124;43m\"\u001b[39;49m\u001b[38;5;124;43mtrain_audio\u001b[39;49m\u001b[38;5;124;43m\"\u001b[39;49m\u001b[43m)\u001b[49m\u001b[43m)\u001b[49m)\n\u001b[1;32m      3\u001b[0m label_id_list \u001b[38;5;241m=\u001b[39m \u001b[38;5;28mlist\u001b[39m(\u001b[38;5;28mrange\u001b[39m(\u001b[38;5;28mlen\u001b[39m(label_list)))\n\u001b[1;32m      4\u001b[0m label2id \u001b[38;5;241m=\u001b[39m \u001b[38;5;28mdict\u001b[39m(\u001b[38;5;28mzip\u001b[39m(label_list, label_id_list))\n",
      "\u001b[0;31mFileNotFoundError\u001b[0m: [Errno 2] No such file or directory: '/kaggle/input/birdclef-2024/train_audio'"
     ]
    }
   ],
   "source": [
    "# labels\n",
    "label_list = sorted(os.listdir(os.path.join(config.DATA_ROOT, \"train_audio\")))\n",
    "label_id_list = list(range(len(label_list)))\n",
    "label2id = dict(zip(label_list, label_id_list))\n",
    "id2label = dict(zip(label_id_list, label_list))"
   ]
  },
  {
   "cell_type": "markdown",
   "id": "5eaa56cc",
   "metadata": {
    "papermill": {
     "duration": 0.00907,
     "end_time": "2024-04-15T02:47:42.785144",
     "exception": false,
     "start_time": "2024-04-15T02:47:42.776074",
     "status": "completed"
    },
    "tags": []
   },
   "source": [
    "# Dataset & Dataloader"
   ]
  },
  {
   "cell_type": "markdown",
   "id": "9a264817",
   "metadata": {
    "papermill": {
     "duration": 0.009023,
     "end_time": "2024-04-15T02:47:42.804993",
     "exception": false,
     "start_time": "2024-04-15T02:47:42.795970",
     "status": "completed"
    },
    "tags": []
   },
   "source": [
    "## Pre-Processing"
   ]
  },
  {
   "cell_type": "code",
   "execution_count": null,
   "id": "bf367d48",
   "metadata": {
    "execution": {
     "iopub.execute_input": "2024-04-15T02:47:42.825512Z",
     "iopub.status.busy": "2024-04-15T02:47:42.825133Z",
     "iopub.status.idle": "2024-04-15T02:47:42.834330Z",
     "shell.execute_reply": "2024-04-15T02:47:42.833321Z"
    },
    "papermill": {
     "duration": 0.022252,
     "end_time": "2024-04-15T02:47:42.836537",
     "exception": false,
     "start_time": "2024-04-15T02:47:42.814285",
     "status": "completed"
    },
    "tags": []
   },
   "outputs": [],
   "source": [
    "def oog2spec_via_scipy(audio_data):\n",
    "    # handles NaNs\n",
    "    mean_signal = np.nanmean(audio_data)\n",
    "    audio_data = (\n",
    "        np.nan_to_num(audio_data, nan=mean_signal)\n",
    "        if np.isnan(audio_data).mean() < 1\n",
    "        else np.zeros_like(audio_data)\n",
    "    )\n",
    "\n",
    "    # to spec.\n",
    "    frequencies, times, spec_data = sci_signal.spectrogram(\n",
    "        audio_data,\n",
    "        fs=config.FS,\n",
    "        nfft=config.N_FFT,\n",
    "        nperseg=config.WIN_SIZE,\n",
    "        noverlap=config.WIN_LAP,\n",
    "        window=\"hann\",\n",
    "    )\n",
    "\n",
    "    # Filter frequency range\n",
    "    valid_freq = (frequencies >= config.MIN_FREQ) & (frequencies <= config.MAX_FREQ)\n",
    "    spec_data = spec_data[valid_freq, :]\n",
    "\n",
    "    # Log\n",
    "    spec_data = np.log10(spec_data + 1e-20)\n",
    "\n",
    "    # min/max normalize\n",
    "    spec_data = spec_data - spec_data.min()\n",
    "    spec_data = spec_data / spec_data.max()\n",
    "\n",
    "    return spec_data"
   ]
  },
  {
   "cell_type": "code",
   "execution_count": null,
   "id": "e6a6dd2c",
   "metadata": {
    "execution": {
     "iopub.execute_input": "2024-04-15T02:47:42.857743Z",
     "iopub.status.busy": "2024-04-15T02:47:42.857297Z",
     "iopub.status.idle": "2024-04-15T02:48:08.646676Z",
     "shell.execute_reply": "2024-04-15T02:48:08.645583Z"
    },
    "papermill": {
     "duration": 25.803563,
     "end_time": "2024-04-15T02:48:08.649557",
     "exception": false,
     "start_time": "2024-04-15T02:47:42.845994",
     "status": "completed"
    },
    "tags": []
   },
   "outputs": [],
   "source": [
    "all_bird_data = dict()\n",
    "\n",
    "# https://www.kaggle.com/code/markwijkhuizen/birdclef-2024-efficientvit-inference\n",
    "if len(glob(f\"{config.DATA_ROOT}/test_soundscapes/*.ogg\")) > 0:\n",
    "    ogg_file_paths = glob(f\"{config.DATA_ROOT}/test_soundscapes/*.ogg\")\n",
    "else:\n",
    "    ogg_file_paths = sorted(glob(f\"{config.DATA_ROOT}/unlabeled_soundscapes/*.ogg\"))[\n",
    "        :10\n",
    "    ]\n",
    "\n",
    "for i, file_path in tqdm(enumerate(ogg_file_paths)):\n",
    "    row_id = re.search(r\"/([^/]+)\\.ogg$\", file_path).group(1)  # filename\n",
    "    audio_data, _ = librosa.load(file_path, sr=config.FS)\n",
    "\n",
    "    # to spec.\n",
    "    spec = oog2spec_via_scipy(audio_data)\n",
    "\n",
    "    # pad\n",
    "    pad = 512 - (spec.shape[1] % 512)\n",
    "    if pad > 0:\n",
    "        spec = np.pad(spec, ((0, 0), (0, pad)))\n",
    "\n",
    "    # reshape\n",
    "    spec = spec.reshape(512, -1, 512).transpose([0, 2, 1])\n",
    "    spec = cv2.resize(spec, (256, 256), interpolation=cv2.INTER_AREA)\n",
    "\n",
    "    for j in range(48):\n",
    "        all_bird_data[f\"{row_id}_{(j+1)*5}\"] = spec[:, :, j]"
   ]
  },
  {
   "cell_type": "markdown",
   "id": "931bdb66",
   "metadata": {
    "papermill": {
     "duration": 0.009474,
     "end_time": "2024-04-15T02:48:08.669082",
     "exception": false,
     "start_time": "2024-04-15T02:48:08.659608",
     "status": "completed"
    },
    "tags": []
   },
   "source": [
    "## Dataset"
   ]
  },
  {
   "cell_type": "code",
   "execution_count": null,
   "id": "1fe175a4",
   "metadata": {
    "execution": {
     "iopub.execute_input": "2024-04-15T02:48:08.691217Z",
     "iopub.status.busy": "2024-04-15T02:48:08.690328Z",
     "iopub.status.idle": "2024-04-15T02:48:08.697856Z",
     "shell.execute_reply": "2024-04-15T02:48:08.697105Z"
    },
    "papermill": {
     "duration": 0.021234,
     "end_time": "2024-04-15T02:48:08.700079",
     "exception": false,
     "start_time": "2024-04-15T02:48:08.678845",
     "status": "completed"
    },
    "tags": []
   },
   "outputs": [],
   "source": [
    "class BirdDataset(torch.utils.data.Dataset):\n",
    "    def __init__(\n",
    "        self,\n",
    "        bird_data,\n",
    "        augmentation=None,\n",
    "    ):\n",
    "        super().__init__()\n",
    "        self.bird_data = bird_data\n",
    "        self.keys_list = list(bird_data.keys())\n",
    "        self.augmentation = augmentation\n",
    "\n",
    "    def __len__(self):\n",
    "        return len(self.bird_data)\n",
    "\n",
    "    def __getitem__(self, index):\n",
    "        _spec = self.bird_data[self.keys_list[index]]\n",
    "\n",
    "        if self.augmentation is not None:\n",
    "            _spec = self.augmentation(image=_spec)[\"image\"]\n",
    "\n",
    "        return torch.tensor(_spec, dtype=torch.float32)"
   ]
  },
  {
   "cell_type": "markdown",
   "id": "67d3f674",
   "metadata": {
    "papermill": {
     "duration": 0.009423,
     "end_time": "2024-04-15T02:48:08.719289",
     "exception": false,
     "start_time": "2024-04-15T02:48:08.709866",
     "status": "completed"
    },
    "tags": []
   },
   "source": [
    "## Augmentation"
   ]
  },
  {
   "cell_type": "code",
   "execution_count": null,
   "id": "f7e8a733",
   "metadata": {
    "execution": {
     "iopub.execute_input": "2024-04-15T02:48:08.740719Z",
     "iopub.status.busy": "2024-04-15T02:48:08.740130Z",
     "iopub.status.idle": "2024-04-15T02:48:08.744383Z",
     "shell.execute_reply": "2024-04-15T02:48:08.743618Z"
    },
    "papermill": {
     "duration": 0.017582,
     "end_time": "2024-04-15T02:48:08.746607",
     "exception": false,
     "start_time": "2024-04-15T02:48:08.729025",
     "status": "completed"
    },
    "tags": []
   },
   "outputs": [],
   "source": [
    "def get_transforms(_type):\n",
    "    if _type == \"test\":\n",
    "        return albu.Compose([])"
   ]
  },
  {
   "cell_type": "markdown",
   "id": "54772bd1",
   "metadata": {
    "papermill": {
     "duration": 0.009298,
     "end_time": "2024-04-15T02:48:08.765559",
     "exception": false,
     "start_time": "2024-04-15T02:48:08.756261",
     "status": "completed"
    },
    "tags": []
   },
   "source": [
    "## Verify"
   ]
  },
  {
   "cell_type": "code",
   "execution_count": null,
   "id": "84fa9883",
   "metadata": {
    "execution": {
     "iopub.execute_input": "2024-04-15T02:48:08.786723Z",
     "iopub.status.busy": "2024-04-15T02:48:08.786138Z",
     "iopub.status.idle": "2024-04-15T02:48:08.793362Z",
     "shell.execute_reply": "2024-04-15T02:48:08.792537Z"
    },
    "papermill": {
     "duration": 0.02044,
     "end_time": "2024-04-15T02:48:08.795486",
     "exception": false,
     "start_time": "2024-04-15T02:48:08.775046",
     "status": "completed"
    },
    "tags": []
   },
   "outputs": [],
   "source": [
    "def show_batch(ds, row=2, col=2):\n",
    "    fig = plt.figure(figsize=(6, 6))\n",
    "    img_index = np.random.randint(0, len(ds) - 1, row * col)\n",
    "\n",
    "    for i in range(len(img_index)):\n",
    "        img = dummy_dataset[img_index[i]]\n",
    "\n",
    "        if isinstance(img, torch.Tensor):\n",
    "            img = img.detach().numpy()\n",
    "\n",
    "        ax = fig.add_subplot(2, 2, i + 1, xticks=[], yticks=[])\n",
    "        ax.imshow(img, cmap=\"jet\")\n",
    "        ax.set_title(f\"ID: {img_index[i]}\")\n",
    "\n",
    "    plt.tight_layout()\n",
    "    plt.show()"
   ]
  },
  {
   "cell_type": "code",
   "execution_count": null,
   "id": "477dc951",
   "metadata": {
    "execution": {
     "iopub.execute_input": "2024-04-15T02:48:08.816973Z",
     "iopub.status.busy": "2024-04-15T02:48:08.816362Z",
     "iopub.status.idle": "2024-04-15T02:48:09.920846Z",
     "shell.execute_reply": "2024-04-15T02:48:09.919718Z"
    },
    "papermill": {
     "duration": 1.125005,
     "end_time": "2024-04-15T02:48:09.930263",
     "exception": false,
     "start_time": "2024-04-15T02:48:08.805258",
     "status": "completed"
    },
    "tags": []
   },
   "outputs": [],
   "source": [
    "dummy_dataset = BirdDataset(all_bird_data, get_transforms(\"test\"))\n",
    "\n",
    "test_input = dummy_dataset[0]\n",
    "print(test_input.detach().numpy().shape)\n",
    "\n",
    "if config.VISUALIZE:\n",
    "    show_batch(dummy_dataset)\n",
    "\n",
    "del dummy_dataset\n",
    "gc.collect()"
   ]
  },
  {
   "cell_type": "markdown",
   "id": "63bde212",
   "metadata": {
    "papermill": {
     "duration": 0.019455,
     "end_time": "2024-04-15T02:48:09.970629",
     "exception": false,
     "start_time": "2024-04-15T02:48:09.951174",
     "status": "completed"
    },
    "tags": []
   },
   "source": [
    "# Model"
   ]
  },
  {
   "cell_type": "markdown",
   "id": "171438b9",
   "metadata": {
    "papermill": {
     "duration": 0.0253,
     "end_time": "2024-04-15T02:48:10.016231",
     "exception": false,
     "start_time": "2024-04-15T02:48:09.990931",
     "status": "completed"
    },
    "tags": []
   },
   "source": [
    "## Network"
   ]
  },
  {
   "cell_type": "code",
   "execution_count": null,
   "id": "11a0e13c",
   "metadata": {
    "execution": {
     "iopub.execute_input": "2024-04-15T02:48:10.060588Z",
     "iopub.status.busy": "2024-04-15T02:48:10.060147Z",
     "iopub.status.idle": "2024-04-15T02:48:10.073650Z",
     "shell.execute_reply": "2024-04-15T02:48:10.072181Z"
    },
    "papermill": {
     "duration": 0.037744,
     "end_time": "2024-04-15T02:48:10.076085",
     "exception": false,
     "start_time": "2024-04-15T02:48:10.038341",
     "status": "completed"
    },
    "tags": []
   },
   "outputs": [],
   "source": [
    "class EffNet(nn.Module):\n",
    "    def __init__(self, model_type, n_classes, pretrained=False):\n",
    "        super().__init__()\n",
    "\n",
    "        if model_type == \"efficientnet_b0\":\n",
    "            if pretrained:\n",
    "                weights = efficientnet.EfficientNet_B0_Weights.DEFAULT\n",
    "            else:\n",
    "                weights = None\n",
    "            self.base_model = efficientnet.efficientnet_b0(weights=weights)\n",
    "        elif model_type == \"efficientnet_b1\":\n",
    "            if pretrained:\n",
    "                weights = efficientnet.EfficientNet_B1_Weights.DEFAULT\n",
    "            else:\n",
    "                weights = None\n",
    "            self.base_model = efficientnet.efficientnet_b1(weights=weights)\n",
    "        elif model_type == \"efficientnet_b2\":\n",
    "            if pretrained:\n",
    "                weights = efficientnet.EfficientNet_B2_Weights.DEFAULT\n",
    "            else:\n",
    "                weights = None\n",
    "            self.base_model = efficientnet.efficientnet_b2(weights=weights)\n",
    "        elif model_type == \"efficientnet_b3\":\n",
    "            if pretrained:\n",
    "                weights = efficientnet.EfficientNet_B3_Weights.DEFAULT\n",
    "            else:\n",
    "                weights = None\n",
    "            self.base_model = efficientnet.efficientnet_b3(weights=weights)\n",
    "        else:\n",
    "            raise ValueError(\"model type not supported\")\n",
    "\n",
    "        self.base_model.classifier[1] = nn.Linear(\n",
    "            self.base_model.classifier[1].in_features, n_classes, dtype=torch.float32\n",
    "        )\n",
    "\n",
    "    def forward(self, x):\n",
    "        x = x.unsqueeze(-1)\n",
    "        x = torch.cat([x, x, x], dim=3).permute(0, 3, 1, 2)\n",
    "        return self.base_model(x)"
   ]
  },
  {
   "cell_type": "markdown",
   "id": "7013f4e4",
   "metadata": {
    "papermill": {
     "duration": 0.019515,
     "end_time": "2024-04-15T02:48:10.115626",
     "exception": false,
     "start_time": "2024-04-15T02:48:10.096111",
     "status": "completed"
    },
    "tags": []
   },
   "source": [
    "## Model by PyTorch-Lightning"
   ]
  },
  {
   "cell_type": "code",
   "execution_count": null,
   "id": "f5d39366",
   "metadata": {
    "execution": {
     "iopub.execute_input": "2024-04-15T02:48:10.159202Z",
     "iopub.status.busy": "2024-04-15T02:48:10.157710Z",
     "iopub.status.idle": "2024-04-15T02:48:10.184545Z",
     "shell.execute_reply": "2024-04-15T02:48:10.183622Z"
    },
    "papermill": {
     "duration": 0.052456,
     "end_time": "2024-04-15T02:48:10.188040",
     "exception": false,
     "start_time": "2024-04-15T02:48:10.135584",
     "status": "completed"
    },
    "tags": []
   },
   "outputs": [],
   "source": [
    "class BirdModel(pl.LightningModule):\n",
    "    def __init__(self):\n",
    "        super().__init__()\n",
    "\n",
    "        # == backbone ==\n",
    "        self.backbone = EffNet(config.MODEL_TYPE, n_classes=len(label_list))\n",
    "\n",
    "        # == loss function ==\n",
    "        self.loss_fn = nn.CrossEntropyLoss()\n",
    "\n",
    "        # == record ==\n",
    "        self.validation_step_outputs = []\n",
    "\n",
    "    def forward(self, images):\n",
    "        return self.backbone(images)\n",
    "\n",
    "    def configure_optimizers(self):\n",
    "        # == define optimizer ==\n",
    "        model_optimizer = torch.optim.Adam(\n",
    "            filter(lambda p: p.requires_grad, self.parameters()),\n",
    "            lr=config.LR,\n",
    "            weight_decay=config.WEIGHT_DECAY,\n",
    "        )\n",
    "\n",
    "        # == define learning rate scheduler ==\n",
    "        lr_scheduler = CosineAnnealingWarmRestarts(\n",
    "            model_optimizer, T_0=config.EPOCHS, T_mult=1, eta_min=1e-6, last_epoch=-1\n",
    "        )\n",
    "\n",
    "        return {\n",
    "            \"optimizer\": model_optimizer,\n",
    "            \"lr_scheduler\": {\n",
    "                \"scheduler\": lr_scheduler,\n",
    "                \"interval\": \"epoch\",\n",
    "                \"monitor\": \"val_loss\",\n",
    "                \"frequency\": 1,\n",
    "            },\n",
    "        }\n",
    "\n",
    "    def training_step(self, batch, batch_idx):\n",
    "        # == obtain input and target ==\n",
    "        image, target = batch\n",
    "        image = image.to(self.device)\n",
    "        target = target.to(self.device)\n",
    "\n",
    "        # == pred ==\n",
    "        y_pred = self(image)\n",
    "\n",
    "        # == compute loss ==\n",
    "        train_loss = self.loss_fn(y_pred, target)\n",
    "\n",
    "        # == record ==\n",
    "        self.log(\"train_loss\", train_loss, True)\n",
    "\n",
    "        return train_loss\n",
    "\n",
    "    def validation_step(self, batch, batch_idx):\n",
    "        # == obtain input and target ==\n",
    "        image, target = batch\n",
    "        image = image.to(self.device)\n",
    "        target = target.to(self.device)\n",
    "\n",
    "        # == pred ==\n",
    "        with torch.no_grad():\n",
    "            y_pred = self(image)\n",
    "\n",
    "        self.validation_step_outputs.append({\"logits\": y_pred, \"targets\": target})\n",
    "\n",
    "    def train_dataloader(self):\n",
    "        return self._train_dataloader\n",
    "\n",
    "    def validation_dataloader(self):\n",
    "        return self._validation_dataloader\n",
    "\n",
    "    def on_validation_epoch_end(self):\n",
    "        # = merge batch data =\n",
    "        outputs = self.validation_step_outputs\n",
    "\n",
    "        output_val = (\n",
    "            nn.Softmax(dim=1)(torch.cat([x[\"logits\"] for x in outputs], dim=0))\n",
    "            .cpu()\n",
    "            .detach()\n",
    "        )\n",
    "        target_val = torch.cat([x[\"targets\"] for x in outputs], dim=0).cpu().detach()\n",
    "\n",
    "        # = compute validation loss =\n",
    "        val_loss = self.loss_fn(output_val, target_val)\n",
    "\n",
    "        # target to one-hot\n",
    "        target_val = torch.nn.functional.one_hot(target_val, len(label_list))\n",
    "\n",
    "        # = val with ROC AUC =\n",
    "        gt_df = pd.DataFrame(target_val.numpy().astype(np.float32), columns=label_list)\n",
    "        pred_df = pd.DataFrame(\n",
    "            output_val.numpy().astype(np.float32), columns=label_list\n",
    "        )\n",
    "\n",
    "        gt_df[\"id\"] = [f\"id_{i}\" for i in range(len(gt_df))]\n",
    "        pred_df[\"id\"] = [f\"id_{i}\" for i in range(len(pred_df))]\n",
    "\n",
    "        val_score = score(gt_df, pred_df, row_id_column_name=\"id\")\n",
    "\n",
    "        self.log(\"val_score\", val_score, True)\n",
    "\n",
    "        return {\"val_loss\": val_loss, \"val_score\": val_score}"
   ]
  },
  {
   "cell_type": "markdown",
   "id": "2438861d",
   "metadata": {
    "papermill": {
     "duration": 0.020105,
     "end_time": "2024-04-15T02:48:10.232532",
     "exception": false,
     "start_time": "2024-04-15T02:48:10.212427",
     "status": "completed"
    },
    "tags": []
   },
   "source": [
    "# Functions of Inference Loop"
   ]
  },
  {
   "cell_type": "code",
   "execution_count": null,
   "id": "f7a16be2",
   "metadata": {
    "execution": {
     "iopub.execute_input": "2024-04-15T02:48:10.277764Z",
     "iopub.status.busy": "2024-04-15T02:48:10.276923Z",
     "iopub.status.idle": "2024-04-15T02:48:10.286398Z",
     "shell.execute_reply": "2024-04-15T02:48:10.285032Z"
    },
    "papermill": {
     "duration": 0.036558,
     "end_time": "2024-04-15T02:48:10.289169",
     "exception": false,
     "start_time": "2024-04-15T02:48:10.252611",
     "status": "completed"
    },
    "tags": []
   },
   "outputs": [],
   "source": [
    "def predict(data_loader, model):\n",
    "    model.to(config.DEVICE)\n",
    "    model.eval()\n",
    "    pred = []\n",
    "    for batch in tqdm(data_loader):\n",
    "        with torch.no_grad():\n",
    "            x = batch\n",
    "            outputs = model(x)\n",
    "            outputs = nn.Softmax(dim=1)(outputs)\n",
    "        pred.append(outputs.detach().cpu())\n",
    "\n",
    "    pred = torch.cat(pred, dim=0).cpu().detach()\n",
    "\n",
    "    return pred.numpy().astype(np.float32)"
   ]
  },
  {
   "cell_type": "markdown",
   "id": "8988e5de",
   "metadata": {
    "papermill": {
     "duration": 0.019647,
     "end_time": "2024-04-15T02:48:10.328909",
     "exception": false,
     "start_time": "2024-04-15T02:48:10.309262",
     "status": "completed"
    },
    "tags": []
   },
   "source": [
    "# Inference & Submision"
   ]
  },
  {
   "cell_type": "markdown",
   "id": "89b52fb6",
   "metadata": {
    "papermill": {
     "duration": 0.019576,
     "end_time": "2024-04-15T02:48:10.368510",
     "exception": false,
     "start_time": "2024-04-15T02:48:10.348934",
     "status": "completed"
    },
    "tags": []
   },
   "source": [
    "## ckpts"
   ]
  },
  {
   "cell_type": "code",
   "execution_count": null,
   "id": "80024c15",
   "metadata": {
    "execution": {
     "iopub.execute_input": "2024-04-15T02:48:10.410991Z",
     "iopub.status.busy": "2024-04-15T02:48:10.410508Z",
     "iopub.status.idle": "2024-04-15T02:48:10.416400Z",
     "shell.execute_reply": "2024-04-15T02:48:10.414970Z"
    },
    "papermill": {
     "duration": 0.030081,
     "end_time": "2024-04-15T02:48:10.418925",
     "exception": false,
     "start_time": "2024-04-15T02:48:10.388844",
     "status": "completed"
    },
    "tags": []
   },
   "outputs": [],
   "source": [
    "# ckpt_list = glob(f'{config.CKPT_ROOT}/*.ckpt')\n",
    "# print(f'find {len(ckpt_list)} ckpts in {config.CKPT_ROOT}.')\n",
    "\n",
    "ckpt_list = [f\"/kaggle/input/birdclef24-baseline-checkpoints/fold_0.ckpt\"]"
   ]
  },
  {
   "cell_type": "markdown",
   "id": "e8c6ddd6",
   "metadata": {
    "papermill": {
     "duration": 0.019797,
     "end_time": "2024-04-15T02:48:10.458621",
     "exception": false,
     "start_time": "2024-04-15T02:48:10.438824",
     "status": "completed"
    },
    "tags": []
   },
   "source": [
    "## Main Loop"
   ]
  },
  {
   "cell_type": "code",
   "execution_count": null,
   "id": "9828af4c",
   "metadata": {
    "execution": {
     "iopub.execute_input": "2024-04-15T02:48:10.501622Z",
     "iopub.status.busy": "2024-04-15T02:48:10.501180Z",
     "iopub.status.idle": "2024-04-15T02:48:39.770920Z",
     "shell.execute_reply": "2024-04-15T02:48:39.769602Z"
    },
    "papermill": {
     "duration": 29.294737,
     "end_time": "2024-04-15T02:48:39.774118",
     "exception": false,
     "start_time": "2024-04-15T02:48:10.479381",
     "status": "completed"
    },
    "tags": []
   },
   "outputs": [],
   "source": [
    "predictions = []\n",
    "\n",
    "for ckpt in ckpt_list:\n",
    "    # == init model ==\n",
    "    bird_model = BirdModel()\n",
    "\n",
    "    # == load ckpt ==\n",
    "    weights = torch.load(ckpt, map_location=torch.device(\"cpu\"))[\"state_dict\"]\n",
    "    bird_model.load_state_dict(weights)\n",
    "\n",
    "    # == create dataset & dataloader ==\n",
    "    test_dataset = BirdDataset(all_bird_data, get_transforms(\"test\"))\n",
    "    test_loader = torch.utils.data.DataLoader(\n",
    "        test_dataset,\n",
    "        batch_size=config.BATCH_SIZE,\n",
    "        num_workers=config.N_WORKERS,\n",
    "        shuffle=False,\n",
    "        drop_last=False,\n",
    "    )\n",
    "\n",
    "    predictions.append(predict(test_loader, bird_model))\n",
    "    gc.collect()\n",
    "\n",
    "predictions = np.mean(predictions, axis=0)"
   ]
  },
  {
   "cell_type": "code",
   "execution_count": null,
   "id": "f240a303",
   "metadata": {
    "execution": {
     "iopub.execute_input": "2024-04-15T02:48:39.816320Z",
     "iopub.status.busy": "2024-04-15T02:48:39.815102Z",
     "iopub.status.idle": "2024-04-15T02:48:40.022047Z",
     "shell.execute_reply": "2024-04-15T02:48:40.020923Z"
    },
    "papermill": {
     "duration": 0.231103,
     "end_time": "2024-04-15T02:48:40.024954",
     "exception": false,
     "start_time": "2024-04-15T02:48:39.793851",
     "status": "completed"
    },
    "tags": []
   },
   "outputs": [],
   "source": [
    "sub_pred = pd.DataFrame(predictions, columns=label_list)\n",
    "sub_id = pd.DataFrame({\"row_id\": list(all_bird_data.keys())})\n",
    "\n",
    "sub = pd.concat([sub_id, sub_pred], axis=1)\n",
    "\n",
    "sub.to_csv(\"submission.csv\", index=False)\n",
    "print(f\"Submissionn shape: {sub.shape}\")\n",
    "sub.head(5)"
   ]
  }
 ],
 "metadata": {
  "kaggle": {
   "accelerator": "none",
   "dataSources": [
    {
     "databundleVersionId": 8068726,
     "sourceId": 70203,
     "sourceType": "competition"
    },
    {
     "datasetId": 4779991,
     "sourceId": 8120971,
     "sourceType": "datasetVersion"
    }
   ],
   "dockerImageVersionId": 30684,
   "isGpuEnabled": false,
   "isInternetEnabled": false,
   "language": "python",
   "sourceType": "notebook"
  },
  "kernelspec": {
   "display_name": "Python 3",
   "language": "python",
   "name": "python3"
  },
  "language_info": {
   "codemirror_mode": {
    "name": "ipython",
    "version": 3
   },
   "file_extension": ".py",
   "mimetype": "text/x-python",
   "name": "python",
   "nbconvert_exporter": "python",
   "pygments_lexer": "ipython3",
   "version": "3.12.1"
  },
  "papermill": {
   "default_parameters": {},
   "duration": 77.217647,
   "end_time": "2024-04-15T02:48:42.867168",
   "environment_variables": {},
   "exception": null,
   "input_path": "__notebook__.ipynb",
   "output_path": "__notebook__.ipynb",
   "parameters": {},
   "start_time": "2024-04-15T02:47:25.649521",
   "version": "2.5.0"
  },
  "widgets": {
   "application/vnd.jupyter.widget-state+json": {
    "state": {
     "0a44c9a3d96a4422bb57db6c33e8f3c6": {
      "model_module": "@jupyter-widgets/base",
      "model_module_version": "1.2.0",
      "model_name": "LayoutModel",
      "state": {
       "_model_module": "@jupyter-widgets/base",
       "_model_module_version": "1.2.0",
       "_model_name": "LayoutModel",
       "_view_count": null,
       "_view_module": "@jupyter-widgets/base",
       "_view_module_version": "1.2.0",
       "_view_name": "LayoutView",
       "align_content": null,
       "align_items": null,
       "align_self": null,
       "border": null,
       "bottom": null,
       "display": null,
       "flex": null,
       "flex_flow": null,
       "grid_area": null,
       "grid_auto_columns": null,
       "grid_auto_flow": null,
       "grid_auto_rows": null,
       "grid_column": null,
       "grid_gap": null,
       "grid_row": null,
       "grid_template_areas": null,
       "grid_template_columns": null,
       "grid_template_rows": null,
       "height": null,
       "justify_content": null,
       "justify_items": null,
       "left": null,
       "margin": null,
       "max_height": null,
       "max_width": null,
       "min_height": null,
       "min_width": null,
       "object_fit": null,
       "object_position": null,
       "order": null,
       "overflow": null,
       "overflow_x": null,
       "overflow_y": null,
       "padding": null,
       "right": null,
       "top": null,
       "visibility": null,
       "width": null
      }
     },
     "11df57dc5d384d9795c0e81a35de0fbe": {
      "model_module": "@jupyter-widgets/controls",
      "model_module_version": "1.5.0",
      "model_name": "DescriptionStyleModel",
      "state": {
       "_model_module": "@jupyter-widgets/controls",
       "_model_module_version": "1.5.0",
       "_model_name": "DescriptionStyleModel",
       "_view_count": null,
       "_view_module": "@jupyter-widgets/base",
       "_view_module_version": "1.2.0",
       "_view_name": "StyleView",
       "description_width": ""
      }
     },
     "2eb6c161c75b4765ba6e9d8fafb7f7f6": {
      "model_module": "@jupyter-widgets/controls",
      "model_module_version": "1.5.0",
      "model_name": "HTMLModel",
      "state": {
       "_dom_classes": [],
       "_model_module": "@jupyter-widgets/controls",
       "_model_module_version": "1.5.0",
       "_model_name": "HTMLModel",
       "_view_count": null,
       "_view_module": "@jupyter-widgets/controls",
       "_view_module_version": "1.5.0",
       "_view_name": "HTMLView",
       "description": "",
       "description_tooltip": null,
       "layout": "IPY_MODEL_902c060ca4294e9f8d210378de225153",
       "placeholder": "​",
       "style": "IPY_MODEL_e98bbe7496214b08b4ead78549c2ae40",
       "value": " 8/8 [00:28&lt;00:00,  3.07s/it]"
      }
     },
     "39a1ac5f530b4799808ecee47889a3cc": {
      "model_module": "@jupyter-widgets/base",
      "model_module_version": "1.2.0",
      "model_name": "LayoutModel",
      "state": {
       "_model_module": "@jupyter-widgets/base",
       "_model_module_version": "1.2.0",
       "_model_name": "LayoutModel",
       "_view_count": null,
       "_view_module": "@jupyter-widgets/base",
       "_view_module_version": "1.2.0",
       "_view_name": "LayoutView",
       "align_content": null,
       "align_items": null,
       "align_self": null,
       "border": null,
       "bottom": null,
       "display": null,
       "flex": null,
       "flex_flow": null,
       "grid_area": null,
       "grid_auto_columns": null,
       "grid_auto_flow": null,
       "grid_auto_rows": null,
       "grid_column": null,
       "grid_gap": null,
       "grid_row": null,
       "grid_template_areas": null,
       "grid_template_columns": null,
       "grid_template_rows": null,
       "height": null,
       "justify_content": null,
       "justify_items": null,
       "left": null,
       "margin": null,
       "max_height": null,
       "max_width": null,
       "min_height": null,
       "min_width": null,
       "object_fit": null,
       "object_position": null,
       "order": null,
       "overflow": null,
       "overflow_x": null,
       "overflow_y": null,
       "padding": null,
       "right": null,
       "top": null,
       "visibility": null,
       "width": null
      }
     },
     "67c03bdf7f7241ae8c54c6116fd10ae0": {
      "model_module": "@jupyter-widgets/base",
      "model_module_version": "1.2.0",
      "model_name": "LayoutModel",
      "state": {
       "_model_module": "@jupyter-widgets/base",
       "_model_module_version": "1.2.0",
       "_model_name": "LayoutModel",
       "_view_count": null,
       "_view_module": "@jupyter-widgets/base",
       "_view_module_version": "1.2.0",
       "_view_name": "LayoutView",
       "align_content": null,
       "align_items": null,
       "align_self": null,
       "border": null,
       "bottom": null,
       "display": null,
       "flex": null,
       "flex_flow": null,
       "grid_area": null,
       "grid_auto_columns": null,
       "grid_auto_flow": null,
       "grid_auto_rows": null,
       "grid_column": null,
       "grid_gap": null,
       "grid_row": null,
       "grid_template_areas": null,
       "grid_template_columns": null,
       "grid_template_rows": null,
       "height": null,
       "justify_content": null,
       "justify_items": null,
       "left": null,
       "margin": null,
       "max_height": null,
       "max_width": null,
       "min_height": null,
       "min_width": null,
       "object_fit": null,
       "object_position": null,
       "order": null,
       "overflow": null,
       "overflow_x": null,
       "overflow_y": null,
       "padding": null,
       "right": null,
       "top": null,
       "visibility": null,
       "width": null
      }
     },
     "6895e9b1b2d042f6bc807490ee2ff4d6": {
      "model_module": "@jupyter-widgets/controls",
      "model_module_version": "1.5.0",
      "model_name": "FloatProgressModel",
      "state": {
       "_dom_classes": [],
       "_model_module": "@jupyter-widgets/controls",
       "_model_module_version": "1.5.0",
       "_model_name": "FloatProgressModel",
       "_view_count": null,
       "_view_module": "@jupyter-widgets/controls",
       "_view_module_version": "1.5.0",
       "_view_name": "ProgressView",
       "bar_style": "success",
       "description": "",
       "description_tooltip": null,
       "layout": "IPY_MODEL_c031c406048d41a1a1e076a7a6a526ac",
       "max": 8,
       "min": 0,
       "orientation": "horizontal",
       "style": "IPY_MODEL_85c92674e9904c4c96f31e093cdfe208",
       "value": 8
      }
     },
     "6f61d457623b43a5ae75ea0d60aee289": {
      "model_module": "@jupyter-widgets/base",
      "model_module_version": "1.2.0",
      "model_name": "LayoutModel",
      "state": {
       "_model_module": "@jupyter-widgets/base",
       "_model_module_version": "1.2.0",
       "_model_name": "LayoutModel",
       "_view_count": null,
       "_view_module": "@jupyter-widgets/base",
       "_view_module_version": "1.2.0",
       "_view_name": "LayoutView",
       "align_content": null,
       "align_items": null,
       "align_self": null,
       "border": null,
       "bottom": null,
       "display": null,
       "flex": null,
       "flex_flow": null,
       "grid_area": null,
       "grid_auto_columns": null,
       "grid_auto_flow": null,
       "grid_auto_rows": null,
       "grid_column": null,
       "grid_gap": null,
       "grid_row": null,
       "grid_template_areas": null,
       "grid_template_columns": null,
       "grid_template_rows": null,
       "height": null,
       "justify_content": null,
       "justify_items": null,
       "left": null,
       "margin": null,
       "max_height": null,
       "max_width": null,
       "min_height": null,
       "min_width": null,
       "object_fit": null,
       "object_position": null,
       "order": null,
       "overflow": null,
       "overflow_x": null,
       "overflow_y": null,
       "padding": null,
       "right": null,
       "top": null,
       "visibility": null,
       "width": "20px"
      }
     },
     "85c92674e9904c4c96f31e093cdfe208": {
      "model_module": "@jupyter-widgets/controls",
      "model_module_version": "1.5.0",
      "model_name": "ProgressStyleModel",
      "state": {
       "_model_module": "@jupyter-widgets/controls",
       "_model_module_version": "1.5.0",
       "_model_name": "ProgressStyleModel",
       "_view_count": null,
       "_view_module": "@jupyter-widgets/base",
       "_view_module_version": "1.2.0",
       "_view_name": "StyleView",
       "bar_color": null,
       "description_width": ""
      }
     },
     "8af34237e88e451aa5eb9785386958e4": {
      "model_module": "@jupyter-widgets/controls",
      "model_module_version": "1.5.0",
      "model_name": "HTMLModel",
      "state": {
       "_dom_classes": [],
       "_model_module": "@jupyter-widgets/controls",
       "_model_module_version": "1.5.0",
       "_model_name": "HTMLModel",
       "_view_count": null,
       "_view_module": "@jupyter-widgets/controls",
       "_view_module_version": "1.5.0",
       "_view_name": "HTMLView",
       "description": "",
       "description_tooltip": null,
       "layout": "IPY_MODEL_39a1ac5f530b4799808ecee47889a3cc",
       "placeholder": "​",
       "style": "IPY_MODEL_11df57dc5d384d9795c0e81a35de0fbe",
       "value": "100%"
      }
     },
     "902c060ca4294e9f8d210378de225153": {
      "model_module": "@jupyter-widgets/base",
      "model_module_version": "1.2.0",
      "model_name": "LayoutModel",
      "state": {
       "_model_module": "@jupyter-widgets/base",
       "_model_module_version": "1.2.0",
       "_model_name": "LayoutModel",
       "_view_count": null,
       "_view_module": "@jupyter-widgets/base",
       "_view_module_version": "1.2.0",
       "_view_name": "LayoutView",
       "align_content": null,
       "align_items": null,
       "align_self": null,
       "border": null,
       "bottom": null,
       "display": null,
       "flex": null,
       "flex_flow": null,
       "grid_area": null,
       "grid_auto_columns": null,
       "grid_auto_flow": null,
       "grid_auto_rows": null,
       "grid_column": null,
       "grid_gap": null,
       "grid_row": null,
       "grid_template_areas": null,
       "grid_template_columns": null,
       "grid_template_rows": null,
       "height": null,
       "justify_content": null,
       "justify_items": null,
       "left": null,
       "margin": null,
       "max_height": null,
       "max_width": null,
       "min_height": null,
       "min_width": null,
       "object_fit": null,
       "object_position": null,
       "order": null,
       "overflow": null,
       "overflow_x": null,
       "overflow_y": null,
       "padding": null,
       "right": null,
       "top": null,
       "visibility": null,
       "width": null
      }
     },
     "966a82a7f3834194bcfb47871258ec90": {
      "model_module": "@jupyter-widgets/controls",
      "model_module_version": "1.5.0",
      "model_name": "DescriptionStyleModel",
      "state": {
       "_model_module": "@jupyter-widgets/controls",
       "_model_module_version": "1.5.0",
       "_model_name": "DescriptionStyleModel",
       "_view_count": null,
       "_view_module": "@jupyter-widgets/base",
       "_view_module_version": "1.2.0",
       "_view_name": "StyleView",
       "description_width": ""
      }
     },
     "a8c67fa71aba476c93bbc2694be4fa42": {
      "model_module": "@jupyter-widgets/controls",
      "model_module_version": "1.5.0",
      "model_name": "HTMLModel",
      "state": {
       "_dom_classes": [],
       "_model_module": "@jupyter-widgets/controls",
       "_model_module_version": "1.5.0",
       "_model_name": "HTMLModel",
       "_view_count": null,
       "_view_module": "@jupyter-widgets/controls",
       "_view_module_version": "1.5.0",
       "_view_name": "HTMLView",
       "description": "",
       "description_tooltip": null,
       "layout": "IPY_MODEL_67c03bdf7f7241ae8c54c6116fd10ae0",
       "placeholder": "​",
       "style": "IPY_MODEL_966a82a7f3834194bcfb47871258ec90",
       "value": " 10/? [00:25&lt;00:00,  1.41s/it]"
      }
     },
     "ace45b11a57c422c88e937580245cec9": {
      "model_module": "@jupyter-widgets/base",
      "model_module_version": "1.2.0",
      "model_name": "LayoutModel",
      "state": {
       "_model_module": "@jupyter-widgets/base",
       "_model_module_version": "1.2.0",
       "_model_name": "LayoutModel",
       "_view_count": null,
       "_view_module": "@jupyter-widgets/base",
       "_view_module_version": "1.2.0",
       "_view_name": "LayoutView",
       "align_content": null,
       "align_items": null,
       "align_self": null,
       "border": null,
       "bottom": null,
       "display": null,
       "flex": null,
       "flex_flow": null,
       "grid_area": null,
       "grid_auto_columns": null,
       "grid_auto_flow": null,
       "grid_auto_rows": null,
       "grid_column": null,
       "grid_gap": null,
       "grid_row": null,
       "grid_template_areas": null,
       "grid_template_columns": null,
       "grid_template_rows": null,
       "height": null,
       "justify_content": null,
       "justify_items": null,
       "left": null,
       "margin": null,
       "max_height": null,
       "max_width": null,
       "min_height": null,
       "min_width": null,
       "object_fit": null,
       "object_position": null,
       "order": null,
       "overflow": null,
       "overflow_x": null,
       "overflow_y": null,
       "padding": null,
       "right": null,
       "top": null,
       "visibility": null,
       "width": null
      }
     },
     "bc9322746360494ebe562813ec73a8a2": {
      "model_module": "@jupyter-widgets/controls",
      "model_module_version": "1.5.0",
      "model_name": "DescriptionStyleModel",
      "state": {
       "_model_module": "@jupyter-widgets/controls",
       "_model_module_version": "1.5.0",
       "_model_name": "DescriptionStyleModel",
       "_view_count": null,
       "_view_module": "@jupyter-widgets/base",
       "_view_module_version": "1.2.0",
       "_view_name": "StyleView",
       "description_width": ""
      }
     },
     "c031c406048d41a1a1e076a7a6a526ac": {
      "model_module": "@jupyter-widgets/base",
      "model_module_version": "1.2.0",
      "model_name": "LayoutModel",
      "state": {
       "_model_module": "@jupyter-widgets/base",
       "_model_module_version": "1.2.0",
       "_model_name": "LayoutModel",
       "_view_count": null,
       "_view_module": "@jupyter-widgets/base",
       "_view_module_version": "1.2.0",
       "_view_name": "LayoutView",
       "align_content": null,
       "align_items": null,
       "align_self": null,
       "border": null,
       "bottom": null,
       "display": null,
       "flex": null,
       "flex_flow": null,
       "grid_area": null,
       "grid_auto_columns": null,
       "grid_auto_flow": null,
       "grid_auto_rows": null,
       "grid_column": null,
       "grid_gap": null,
       "grid_row": null,
       "grid_template_areas": null,
       "grid_template_columns": null,
       "grid_template_rows": null,
       "height": null,
       "justify_content": null,
       "justify_items": null,
       "left": null,
       "margin": null,
       "max_height": null,
       "max_width": null,
       "min_height": null,
       "min_width": null,
       "object_fit": null,
       "object_position": null,
       "order": null,
       "overflow": null,
       "overflow_x": null,
       "overflow_y": null,
       "padding": null,
       "right": null,
       "top": null,
       "visibility": null,
       "width": null
      }
     },
     "d3e0d6001737497d9e9d97aa9fba16ad": {
      "model_module": "@jupyter-widgets/controls",
      "model_module_version": "1.5.0",
      "model_name": "FloatProgressModel",
      "state": {
       "_dom_classes": [],
       "_model_module": "@jupyter-widgets/controls",
       "_model_module_version": "1.5.0",
       "_model_name": "FloatProgressModel",
       "_view_count": null,
       "_view_module": "@jupyter-widgets/controls",
       "_view_module_version": "1.5.0",
       "_view_name": "ProgressView",
       "bar_style": "success",
       "description": "",
       "description_tooltip": null,
       "layout": "IPY_MODEL_6f61d457623b43a5ae75ea0d60aee289",
       "max": 1,
       "min": 0,
       "orientation": "horizontal",
       "style": "IPY_MODEL_e5cf98e7a7784875be6708d00d5f193c",
       "value": 1
      }
     },
     "dfc2c41ad2594b42ba04414ce9ff23b6": {
      "model_module": "@jupyter-widgets/controls",
      "model_module_version": "1.5.0",
      "model_name": "HBoxModel",
      "state": {
       "_dom_classes": [],
       "_model_module": "@jupyter-widgets/controls",
       "_model_module_version": "1.5.0",
       "_model_name": "HBoxModel",
       "_view_count": null,
       "_view_module": "@jupyter-widgets/controls",
       "_view_module_version": "1.5.0",
       "_view_name": "HBoxView",
       "box_style": "",
       "children": [
        "IPY_MODEL_fdf6cede086e4b59999d21167b38219f",
        "IPY_MODEL_d3e0d6001737497d9e9d97aa9fba16ad",
        "IPY_MODEL_a8c67fa71aba476c93bbc2694be4fa42"
       ],
       "layout": "IPY_MODEL_ace45b11a57c422c88e937580245cec9"
      }
     },
     "e4d6c91f8719488b8ed6de03fa280a01": {
      "model_module": "@jupyter-widgets/base",
      "model_module_version": "1.2.0",
      "model_name": "LayoutModel",
      "state": {
       "_model_module": "@jupyter-widgets/base",
       "_model_module_version": "1.2.0",
       "_model_name": "LayoutModel",
       "_view_count": null,
       "_view_module": "@jupyter-widgets/base",
       "_view_module_version": "1.2.0",
       "_view_name": "LayoutView",
       "align_content": null,
       "align_items": null,
       "align_self": null,
       "border": null,
       "bottom": null,
       "display": null,
       "flex": null,
       "flex_flow": null,
       "grid_area": null,
       "grid_auto_columns": null,
       "grid_auto_flow": null,
       "grid_auto_rows": null,
       "grid_column": null,
       "grid_gap": null,
       "grid_row": null,
       "grid_template_areas": null,
       "grid_template_columns": null,
       "grid_template_rows": null,
       "height": null,
       "justify_content": null,
       "justify_items": null,
       "left": null,
       "margin": null,
       "max_height": null,
       "max_width": null,
       "min_height": null,
       "min_width": null,
       "object_fit": null,
       "object_position": null,
       "order": null,
       "overflow": null,
       "overflow_x": null,
       "overflow_y": null,
       "padding": null,
       "right": null,
       "top": null,
       "visibility": null,
       "width": null
      }
     },
     "e5cf98e7a7784875be6708d00d5f193c": {
      "model_module": "@jupyter-widgets/controls",
      "model_module_version": "1.5.0",
      "model_name": "ProgressStyleModel",
      "state": {
       "_model_module": "@jupyter-widgets/controls",
       "_model_module_version": "1.5.0",
       "_model_name": "ProgressStyleModel",
       "_view_count": null,
       "_view_module": "@jupyter-widgets/base",
       "_view_module_version": "1.2.0",
       "_view_name": "StyleView",
       "bar_color": null,
       "description_width": ""
      }
     },
     "e98bbe7496214b08b4ead78549c2ae40": {
      "model_module": "@jupyter-widgets/controls",
      "model_module_version": "1.5.0",
      "model_name": "DescriptionStyleModel",
      "state": {
       "_model_module": "@jupyter-widgets/controls",
       "_model_module_version": "1.5.0",
       "_model_name": "DescriptionStyleModel",
       "_view_count": null,
       "_view_module": "@jupyter-widgets/base",
       "_view_module_version": "1.2.0",
       "_view_name": "StyleView",
       "description_width": ""
      }
     },
     "fdf6cede086e4b59999d21167b38219f": {
      "model_module": "@jupyter-widgets/controls",
      "model_module_version": "1.5.0",
      "model_name": "HTMLModel",
      "state": {
       "_dom_classes": [],
       "_model_module": "@jupyter-widgets/controls",
       "_model_module_version": "1.5.0",
       "_model_name": "HTMLModel",
       "_view_count": null,
       "_view_module": "@jupyter-widgets/controls",
       "_view_module_version": "1.5.0",
       "_view_name": "HTMLView",
       "description": "",
       "description_tooltip": null,
       "layout": "IPY_MODEL_0a44c9a3d96a4422bb57db6c33e8f3c6",
       "placeholder": "​",
       "style": "IPY_MODEL_bc9322746360494ebe562813ec73a8a2",
       "value": ""
      }
     },
     "feac2530a0c5433ebeff1ec07f5c42a5": {
      "model_module": "@jupyter-widgets/controls",
      "model_module_version": "1.5.0",
      "model_name": "HBoxModel",
      "state": {
       "_dom_classes": [],
       "_model_module": "@jupyter-widgets/controls",
       "_model_module_version": "1.5.0",
       "_model_name": "HBoxModel",
       "_view_count": null,
       "_view_module": "@jupyter-widgets/controls",
       "_view_module_version": "1.5.0",
       "_view_name": "HBoxView",
       "box_style": "",
       "children": [
        "IPY_MODEL_8af34237e88e451aa5eb9785386958e4",
        "IPY_MODEL_6895e9b1b2d042f6bc807490ee2ff4d6",
        "IPY_MODEL_2eb6c161c75b4765ba6e9d8fafb7f7f6"
       ],
       "layout": "IPY_MODEL_e4d6c91f8719488b8ed6de03fa280a01"
      }
     }
    },
    "version_major": 2,
    "version_minor": 0
   }
  }
 },
 "nbformat": 4,
 "nbformat_minor": 5
}
